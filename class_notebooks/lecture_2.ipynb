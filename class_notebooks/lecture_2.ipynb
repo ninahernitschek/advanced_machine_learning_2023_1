{
 "cells": [
  {
   "cell_type": "markdown",
   "metadata": {
    "slideshow": {
     "slide_type": "slide"
    }
   },
   "source": [
    "**Advanced Machine Learning (Semester 1 2023)**\n",
    "# 2 Artificial Neural Networks (I)\n",
    "\n",
    "\n",
    "*N. Hernitschek, 2023*\n",
    "\n",
    "\n",
    "This Jupyter notebook gives an introduction into the building blocks of neural networks, as well as in simple neural network architecture."
   ]
  },
  {
   "cell_type": "markdown",
   "metadata": {},
   "source": [
    "---\n",
    "## Contents\n",
    "* [Combining perceptrons to logical functions](#first-bullet)\n",
    "* [Coding a simple neural network](#second-bullet)\n",
    "* [Summary](#third-bullet)"
   ]
  },
  {
   "cell_type": "markdown",
   "metadata": {},
   "source": [
    "## 1. Combining perceptrons to logical functions <a class=\"anchor\" id=\"first-bullet\"></a>\n"
   ]
  },
  {
   "cell_type": "markdown",
   "metadata": {},
   "source": [
    "We have seen in the lecture that perceptrons can be used to implement logical functions. We start with implementing the **NOT logical function**:\n",
    "\n",
    "<img src=\"images/not_perceptron.png?modified=12345678\" width=\"300\"/>\n"
   ]
  },
  {
   "cell_type": "code",
   "execution_count": 2,
   "metadata": {},
   "outputs": [
    {
     "name": "stdout",
     "output_type": "stream",
     "text": [
      "NOT(0) = 1\n",
      "NOT(1) = 0\n"
     ]
    }
   ],
   "source": [
    "import numpy as np\n",
    "\n",
    "def heaviside(v):\n",
    "    \"\"\" Heaviside Step function. \"\"\"\n",
    "    if v >= 0:\n",
    "        return 1\n",
    "    else:\n",
    "        return 0\n",
    "    \n",
    "def perceptron(x, w, b):\n",
    "    \"\"\" Function implemented by a perceptron with \n",
    "    weight vector w, bias b,Heaviside activation function \"\"\"\n",
    "    v = np.dot(w, x) + b\n",
    "    y = heaviside(v)\n",
    "    return y\n",
    "\n",
    "def NOT_perceptron(x):\n",
    "    return perceptron(x, w=-1, b=0.5)\n",
    "# try to infer why it's w=-1, b=0.5\n",
    "\n",
    "print(\"NOT(0) = {}\".format(NOT_perceptron(0)))\n",
    "print(\"NOT(1) = {}\".format(NOT_perceptron(1)))"
   ]
  },
  {
   "cell_type": "markdown",
   "metadata": {},
   "source": [
    "The **AND logical function**:\n",
    "\n",
    "<img src=\"images/and_or_perceptron.png?modified=12345678\" width=\"300\"/>"
   ]
  },
  {
   "cell_type": "code",
   "execution_count": 3,
   "metadata": {},
   "outputs": [
    {
     "name": "stdout",
     "output_type": "stream",
     "text": [
      "AND(0, 0) = 0\n",
      "AND(1, 0) = 0\n",
      "AND(0, 1) = 0\n",
      "AND(1, 1) = 1\n"
     ]
    }
   ],
   "source": [
    "def AND_perceptron(x):\n",
    "    w = np.array([1, 1])\n",
    "    b = -1.5\n",
    "    return perceptron(x, w, b)\n",
    "\n",
    "# Test\n",
    "example1 = np.array([0, 0])\n",
    "example2 = np.array([1, 0])\n",
    "example3 = np.array([0, 1])\n",
    "example4 = np.array([1, 1])\n",
    "\n",
    "\n",
    "print(\"AND({}, {}) = {}\".format(example1[0], example1[1], AND_perceptron(example1)))\n",
    "print(\"AND({}, {}) = {}\".format(example2[0], example2[1], AND_perceptron(example2)))\n",
    "print(\"AND({}, {}) = {}\".format(example3[0], example3[1], AND_perceptron(example3)))\n",
    "print(\"AND({}, {}) = {}\".format(example4[0], example4[1], AND_perceptron(example4)))\n"
   ]
  },
  {
   "cell_type": "markdown",
   "metadata": {},
   "source": [
    "The **OR logical function**:\n",
    "    \n",
    "    \n",
    "<img src=\"images/and_or_perceptron.png?modified=12345678\" width=\"300\"/>"
   ]
  },
  {
   "cell_type": "code",
   "execution_count": 4,
   "metadata": {},
   "outputs": [
    {
     "name": "stdout",
     "output_type": "stream",
     "text": [
      "OR(0, 0) = 0\n",
      "OR(1, 0) = 1\n",
      "OR(0, 1) = 1\n",
      "OR(1, 1) = 1\n"
     ]
    }
   ],
   "source": [
    "def OR_perceptron(x):\n",
    "    w = np.array([1, 1])\n",
    "    b = -0.5\n",
    "    return perceptron(x, w, b)\n",
    "\n",
    "# Test\n",
    "example1 = np.array([0, 0])\n",
    "example2 = np.array([1, 0])\n",
    "example3 = np.array([0, 1])\n",
    "example4 = np.array([1, 1])\n",
    "\n",
    "print(\"OR({}, {}) = {}\".format(example1[0], example1[1], OR_perceptron(example1)))\n",
    "print(\"OR({}, {}) = {}\".format(example2[0], example2[1], OR_perceptron(example2)))\n",
    "print(\"OR({}, {}) = {}\".format(example3[0], example3[1], OR_perceptron(example3)))\n",
    "print(\"OR({}, {}) = {}\".format(example4[0], example4[1], OR_perceptron(example4)))"
   ]
  },
  {
   "cell_type": "markdown",
   "metadata": {},
   "source": [
    "We conclude that a single perceptron with an Heaviside activation function can implement each one of the fundamental logical functions: NOT, AND and OR. We have seen in the lecture that this is not the case for XOR. However, XOR can be implemented using a combination of the other logical functions."
   ]
  },
  {
   "cell_type": "markdown",
   "metadata": {},
   "source": [
    "The **XOR logical function**:\n",
    "\n",
    "<img src=\"images/xor_perceptron.png?modified=1345678\" width=\"800\"/>"
   ]
  },
  {
   "cell_type": "code",
   "execution_count": 6,
   "metadata": {},
   "outputs": [
    {
     "name": "stdout",
     "output_type": "stream",
     "text": [
      "OR(0, 0) = 0\n",
      "OR(1, 0) = 1\n",
      "OR(0, 1) = 1\n",
      "OR(1, 1) = 0\n"
     ]
    }
   ],
   "source": [
    "def XOR_net(x):\n",
    "    gate_1 = AND_perceptron(x)\n",
    "    gate_2 = NOT_perceptron(gate_1)\n",
    "    gate_3 = OR_perceptron(x)\n",
    "    gate_4 = np.array([gate_2, gate_3])\n",
    "    output = AND_perceptron(gate_4)\n",
    "    return output\n",
    "\n",
    "#Test\n",
    "example1 = np.array([0, 0])\n",
    "example2 = np.array([1, 0])\n",
    "example3 = np.array([0, 1])\n",
    "example4 = np.array([1, 1])\n",
    "\n",
    "print(\"OR({}, {}) = {}\".format(example1[0], example1[1], XOR_net(example1)))\n",
    "print(\"OR({}, {}) = {}\".format(example2[0], example2[1], XOR_net(example2)))\n",
    "print(\"OR({}, {}) = {}\".format(example3[0], example3[1], XOR_net(example3)))\n",
    "print(\"OR({}, {}) = {}\".format(example4[0], example4[1], XOR_net(example4)))\n",
    "\n"
   ]
  },
  {
   "cell_type": "markdown",
   "metadata": {},
   "source": [
    "We've seen that while XOR cannot be implemented with a single perceptron but with a combination of perceptrons building a simple neural network."
   ]
  },
  {
   "cell_type": "markdown",
   "metadata": {},
   "source": [
    "## 2. Coding a simple neural network <a class=\"anchor\" id=\"second-bullet\"></a>\n",
    "\n",
    "Here we will code a simple neural network that can be trained.\n",
    "Later on in this course, we will use professional software libraries to create, train and apply neural networks. But by coding up a neural network as a toy example it is easier to understand the internal functionality.\n",
    "\n",
    "\n",
    "\n",
    "\n",
    "### Coding a Neuron\n",
    "\n",
    "\n",
    "Assume we have a 2-input neuron that uses the sigmoid activation function and has the following parameters:\n",
    "\n",
    "`w=[0.1,1], b=4`.\n",
    "\n",
    "We give the neuron an input of `x=[1,2]`.\n",
    "From this we can calculate the neuron's output as $(w \\cdot x)+b = ( (w_1 \\times x_1)+(w_2 \\times x_2))+b = 0.1\\times 1 + 1\\times 2 + 4 = 6.1$, and $y = \\varphi(w \\cdot x + b) = \\varphi(7)=0.998$\n",
    "\n",
    "We can code this using `numpy`:"
   ]
  },
  {
   "cell_type": "code",
   "execution_count": 5,
   "metadata": {},
   "outputs": [
    {
     "name": "stdout",
     "output_type": "stream",
     "text": [
      "0.9977621514787236\n"
     ]
    }
   ],
   "source": [
    "import numpy as np\n",
    "\n",
    "def sigmoid(x):\n",
    "  # the activation function: phi(x) = 1 / (1 + exp(-x))\n",
    "  return 1 / (1 + np.exp(-x))\n",
    "\n",
    "class Neuron:\n",
    "  def __init__(self, weights, bias):\n",
    "    self.weights = weights\n",
    "    self.bias = bias\n",
    "\n",
    "  def feedforward(self, inputs):\n",
    "    # Weight inputs, add bias, then use the activation function\n",
    "    total = np.dot(self.weights, inputs) + self.bias\n",
    "    return sigmoid(total)\n",
    "\n",
    "weights = np.array([0.1, 1]) # w1 = 0.1, w2 = 1\n",
    "bias = 4                   # b = 0\n",
    "n = Neuron(weights, bias)\n",
    "\n",
    "x = np.array([1,2])       # x1 = 2, x2 = 3\n",
    "print(n.feedforward(x))    # 0.9990889488055994"
   ]
  },
  {
   "cell_type": "markdown",
   "metadata": {},
   "source": [
    "### Combining Neurons into a Neural Network\n",
    "\n",
    "We can now use neurons as building blocks of a neural network.\n",
    "\n",
    "We create a neural network consisting of 2 inputs, a hidden layer with 2 neurons ($a_1^{1}$ and $a_2^{1}$), and an output layer with 1 neuron ($a^{2}$). Notice that the inputs for the output layer $a^{2}$ are the outputs from $a_1^{1}$ and $a_1^{1}$.\n",
    "Here is the diagram of the network for reference:   \n",
    "\n",
    "\n",
    "\n",
    "\n",
    "<img src=\"images/simple_neural_network.png?modified=134756789\" width=\"600\"/>\n",
    "    \n",
    "    \n",
    "    \n",
    "#### Feedforward\n",
    "\n",
    "Let’s use the network pictured above and assume all neurons have the same weights $w=[0.1,1]$, the same bias $b=0.1$, and the same sigmoid activation function. Let `a11`,`a12`, `a2` denote the outputs of the neurons they represent.\n",
    "\n",
    "What happens if we pass in the input $x=[2, 3]$?\n",
    "\n",
    "\n",
    "Let’s implement feedforward for our neural network.\n",
    "\n"
   ]
  },
  {
   "cell_type": "code",
   "execution_count": 6,
   "metadata": {},
   "outputs": [
    {
     "name": "stdout",
     "output_type": "stream",
     "text": [
      "0.7614910697028644\n"
     ]
    }
   ],
   "source": [
    "import numpy as np\n",
    "\n",
    "\n",
    "class OurNeuralNetwork:\n",
    "  '''\n",
    "  A neural network with:\n",
    "    - 2 inputs\n",
    "    - a hidden layer with 2 neurons (a11, a12)\n",
    "    - an output layer with 1 neuron (a2)\n",
    "  Each neuron has the same weights and bias:\n",
    "    - w = [0.1, 1]\n",
    "    - b = 0.1\n",
    "  '''\n",
    "  def __init__(self):\n",
    "    weights = np.array([0.1, 1])\n",
    "    bias = 0.1\n",
    "\n",
    "    # The Neuron class here is from the previous section\n",
    "    self.a11 = Neuron(weights, bias)\n",
    "    self.a12 = Neuron(weights, bias)\n",
    "    self.a2 = Neuron(weights, bias)\n",
    "\n",
    "  def feedforward(self, x):\n",
    "    out_a11 = self.a11.feedforward(x)\n",
    "    out_a12 = self.a12.feedforward(x)\n",
    "\n",
    "    # The inputs for a2 are the outputs from a11 and a12\n",
    "    out_a2 = self.a2.feedforward(np.array([out_a11, out_a12]))\n",
    "\n",
    "    return out_a2\n",
    "\n",
    "network = OurNeuralNetwork()\n",
    "x = np.array([2, 3])\n",
    "print(network.feedforward(x)) # 0.7614910697028644"
   ]
  },
  {
   "cell_type": "markdown",
   "metadata": {},
   "source": [
    "Training a network means trying to minimize its loss. We are implementing the MSE loss:"
   ]
  },
  {
   "cell_type": "code",
   "execution_count": 7,
   "metadata": {},
   "outputs": [
    {
     "name": "stdout",
     "output_type": "stream",
     "text": [
      "0.5\n"
     ]
    }
   ],
   "source": [
    "import numpy as np\n",
    "\n",
    "def mse_loss(y_true, y_pred):\n",
    "  # y_true and y_pred are numpy arrays of the same length.\n",
    "  return ((y_true - y_pred) ** 2).mean()\n",
    "\n",
    "# Test\n",
    "y_true = np.array([1, 0, 0, 1]) # want to have\n",
    "y_pred = np.array([0, 0, 0, 0]) # what we actually get\n",
    "\n",
    "print(mse_loss(y_true, y_pred)) # 0.5"
   ]
  },
  {
   "cell_type": "markdown",
   "metadata": {},
   "source": [
    "In the following we see a complete example code for a neural network that is trained (and later used to make predictions):"
   ]
  },
  {
   "cell_type": "code",
   "execution_count": 16,
   "metadata": {},
   "outputs": [
    {
     "data": {
      "image/png": "[encoded data removed]",
      "text/plain": [
       "<Figure size 700x700 with 1 Axes>"
      ]
     },
     "metadata": {
      "image/png": {
       "height": 763,
       "width": 780
      }
     },
     "output_type": "display_data"
    }
   ],
   "source": [
    "import numpy as np\n",
    "\n",
    "from matplotlib import pyplot as plt\n",
    "%matplotlib inline\n",
    "%config InlineBackend.figure_format='retina'\n",
    "\n",
    "\n",
    "\n",
    "def sigmoid(x):\n",
    "  # Sigmoid activation function: f(x) = 1 / (1 + e^(-x))\n",
    "  return 1 / (1 + np.exp(-x))\n",
    "\n",
    "def deriv_sigmoid(x):\n",
    "  # Derivative of sigmoid: f'(x) = f(x) * (1 - f(x))\n",
    "  fx = sigmoid(x)\n",
    "  return fx * (1 - fx)\n",
    "\n",
    "def mse_loss(y_true, y_pred):\n",
    "  # y_true and y_pred are numpy arrays of the same length.\n",
    "  return ((y_true - y_pred) ** 2).mean()\n",
    "\n",
    "class OurNeuralNetwork:\n",
    "  '''\n",
    "  A neural network with:\n",
    "    - 2 inputs\n",
    "    - a hidden layer with 2 neurons (a11, a12)\n",
    "    - an output layer with 1 neuron (a2)\n",
    "  '''\n",
    "  def __init__(self):\n",
    "    # Weights\n",
    "    self.w111 = np.random.normal()\n",
    "    self.w112 = np.random.normal()\n",
    "    self.w121 = np.random.normal()\n",
    "    self.w122 = np.random.normal()\n",
    "    self.w211 = np.random.normal()\n",
    "    self.w212 = np.random.normal()\n",
    "\n",
    "    # Biases\n",
    "    self.b11 = np.random.normal()\n",
    "    self.b12 = np.random.normal()\n",
    "    self.b2 = np.random.normal()\n",
    "\n",
    "  def feedforward(self, x):\n",
    "    # x is a numpy array with 2 elements.\n",
    "    a11 = sigmoid(self.w111 * x[0] + self.w112 * x[1] + self.b11)\n",
    "    a12 = sigmoid(self.w121 * x[0] + self.w122 * x[1] + self.b12)\n",
    "    a2 = sigmoid(self.w211 * a11 + self.w212 * a12 + self.b2)\n",
    "    return a2\n",
    "\n",
    "  def train(self, data, all_y_trues):\n",
    "    '''\n",
    "    - data is a (n x 2) numpy array, n = # of samples in the dataset.\n",
    "    - all_y_trues is a numpy array with n elements.\n",
    "      Elements in all_y_trues correspond to those in data.\n",
    "    '''\n",
    "    learn_rate = 0.1\n",
    "    epochs = 1000 # number of times to loop through the entire dataset\n",
    "    epoch_vector=[]\n",
    "    loss_vector=[]\n",
    "\n",
    "    # the gradient descent algorithm\n",
    "    for epoch in range(epochs):\n",
    "      for x, y_true in zip(data, all_y_trues):\n",
    "        # --- Do a feedforward (we'll need these values later)\n",
    "        sum_a11 = self.w111 * x[0] + self.w112 * x[1] + self.b11\n",
    "        a11 = sigmoid(sum_a11)\n",
    "\n",
    "        sum_a12 = self.w121 * x[0] + self.w122 * x[1] + self.b12\n",
    "        a12 = sigmoid(sum_a12)\n",
    "\n",
    "        sum_a2 = self.w211 * a11 + self.w212 * a12 + self.b2\n",
    "        a2 = sigmoid(sum_a2)\n",
    "        y_pred = a2\n",
    "\n",
    "        # --- Calculate partial derivatives.\n",
    "        # --- Naming: d_L_d_w1 represents \"partial L / partial w1\"\n",
    "        d_L_d_ypred = -2 * (y_true - y_pred)\n",
    "\n",
    "        # Neuron a2\n",
    "        d_ypred_d_w211 = a11 * deriv_sigmoid(sum_a2) # dy/dw to know how to change the weights w for a given difference in y\n",
    "        d_ypred_d_w212 = a12 * deriv_sigmoid(sum_a2)\n",
    "        d_ypred_d_b2 = deriv_sigmoid(sum_a2)\n",
    "\n",
    "        d_ypred_d_a11 = self.w211 * deriv_sigmoid(sum_a2)\n",
    "        d_ypred_d_a12 = self.w212 * deriv_sigmoid(sum_a2)\n",
    "\n",
    "        # Neuron a11\n",
    "        d_a11_d_w111 = x[0] * deriv_sigmoid(sum_a11)\n",
    "        d_a11_d_w112 = x[1] * deriv_sigmoid(sum_a11)\n",
    "        d_a11_d_b11 = deriv_sigmoid(sum_a11)\n",
    "\n",
    "        # Neuron a12\n",
    "        d_a12_d_w121 = x[0] * deriv_sigmoid(sum_a12)\n",
    "        d_a12_d_w122 = x[1] * deriv_sigmoid(sum_a12)\n",
    "        d_a12_d_b12 = deriv_sigmoid(sum_a12)\n",
    "\n",
    "        # --- Update weights and biases\n",
    "        # Neuron a11\n",
    "        self.w111 -= learn_rate * d_L_d_ypred * d_ypred_d_a11 * d_a11_d_w111\n",
    "        self.w112 -= learn_rate * d_L_d_ypred * d_ypred_d_a11 * d_a11_d_w112\n",
    "        self.b11 -= learn_rate * d_L_d_ypred * d_ypred_d_a11 * d_a11_d_b11\n",
    "\n",
    "        # Neuron a12\n",
    "        self.w121 -= learn_rate * d_L_d_ypred * d_ypred_d_a12 * d_a12_d_w121\n",
    "        self.w122 -= learn_rate * d_L_d_ypred * d_ypred_d_a12 * d_a12_d_w122\n",
    "        self.b12 -= learn_rate * d_L_d_ypred * d_ypred_d_a12 * d_a12_d_b12\n",
    "\n",
    "        # Neuron a2\n",
    "        self.w211 -= learn_rate * d_L_d_ypred * d_ypred_d_w211\n",
    "        self.w212 -= learn_rate * d_L_d_ypred * d_ypred_d_w212\n",
    "        self.b2 -= learn_rate * d_L_d_ypred * d_ypred_d_b2\n",
    "\n",
    "      # --- Calculate total loss at the end of each epoch\n",
    "      #if epoch % 10 == 0:\n",
    "        y_preds = np.apply_along_axis(self.feedforward, 1, data)\n",
    "        loss = mse_loss(all_y_trues, y_preds)\n",
    "        #print(\"Epoch %d loss: %.3f\" % (epoch, loss))\n",
    "        epoch_vector.append(epoch)\n",
    "        loss_vector.append(loss)\n",
    "        \n",
    "    fig = plt.figure(figsize=(7, 7))\n",
    "    ax = fig.add_axes([0,0,1,1])\n",
    "    ax.plot(epoch_vector,loss_vector, '-b', lw=2)\n",
    "    ax.set_xlabel('epoch')\n",
    "    ax.set_ylabel('loss')\n",
    "    plt.show()\n",
    "      \n",
    "    \n",
    "# Define dataset of period and amplitude\n",
    "data = np.array([\n",
    "  [0.9, 0.5],  \n",
    "  [1.1, 0.55],\n",
    "  [1.2, 0.65],   \n",
    "  [1.1, 0.5], \n",
    "  [1.0, 0.65], \n",
    "  [1.1, 0.45],\n",
    "  [1.1, 0.75],#6.5\n",
    "  [10.5, 0.5],\n",
    "  [13.4, 0.4],\n",
    "  [11.14, 0.54],\n",
    "  [11.49, 0.45],\n",
    "  [13.4, 0.4],    \n",
    "  [27.2, 0.65],\n",
    "])\n",
    "all_y_trues = np.array([\n",
    "  1, # RRL\n",
    "  1, # RRL    \n",
    "  1, # RRL\n",
    "  1, # RRL  \n",
    "  1, # RRL    \n",
    "  1, # RRL\n",
    "  1, # RRL      \n",
    "  0, # Cepheid\n",
    "  0, # Cepheid\n",
    "  0, # Cepheid\n",
    "  0, # Cepheid\n",
    "  0, # Cepheid\n",
    "  0, # Cepheid\n",
    "])\n",
    "\n",
    "\n",
    "\n",
    "# Train our neural network!\n",
    "network = OurNeuralNetwork()\n",
    "network.train(data, all_y_trues)"
   ]
  },
  {
   "cell_type": "markdown",
   "metadata": {},
   "source": [
    "When we plot loss vs. epochs we see that our loss steadily decreases as the network learns."
   ]
  },
  {
   "cell_type": "markdown",
   "metadata": {},
   "source": [
    "As the neural network is now trained, we can use it to make predictions:"
   ]
  },
  {
   "cell_type": "code",
   "execution_count": 12,
   "metadata": {},
   "outputs": [
    {
     "name": "stdout",
     "output_type": "stream",
     "text": [
      "probabilities of sources being RRL stars\n",
      "source_1: 0.793\n",
      "source_2: 0.027\n"
     ]
    }
   ],
   "source": [
    "# Make some predictions\n",
    "source_1 = np.array([1.1, 0.4]) \n",
    "source_2 = np.array([20.3, 0.7]) \n",
    "print(\"probabilities of sources being RRL stars\")\n",
    "print(\"source_1: %.3f\" % network.feedforward(source_1)) # likely RRL\n",
    "print(\"source_2: %.3f\" % network.feedforward(source_2)) # unlikely RRL (thus Cepheid)"
   ]
  },
  {
   "cell_type": "markdown",
   "metadata": {},
   "source": [
    "# <font color='dodgerblue'>Things to try out:</font>\n",
    "\n",
    "\n",
    "*  What happens when one example in the training set is labelled wrong?\n",
    "*  What happens when training runs longer or shorter?\n",
    "*  What happens when the activation function is modified?\n"
   ]
  },
  {
   "cell_type": "markdown",
   "metadata": {},
   "source": [
    "## 3. Summary <a class=\"anchor\" id=\"third-bullet\"></a>\n",
    "\n",
    "At this point, all of you should have:\n",
    "* an understanding of what are the building blocks of neural networks\n",
    "* and understanding of how they interact\n",
    "* seen how to train a neural network with gradient descent and to use backpropagation to calculate partial derivatives\n",
    "* experimented a bit with a neural network.\n",
    "\n"
   ]
  },
  {
   "cell_type": "code",
   "execution_count": null,
   "metadata": {},
   "outputs": [],
   "source": []
  }
 ],
 "metadata": {
  "anaconda-cloud": {},
  "kernelspec": {
   "display_name": "Python 3 (ipykernel)",
   "language": "python",
   "name": "python3"
  },
  "language_info": {
   "codemirror_mode": {
    "name": "ipython",
    "version": 3
   },
   "file_extension": ".py",
   "mimetype": "text/x-python",
   "name": "python",
   "nbconvert_exporter": "python",
   "pygments_lexer": "ipython3",
   "version": "3.10.6"
  }
 },
 "nbformat": 4,
 "nbformat_minor": 1
}
